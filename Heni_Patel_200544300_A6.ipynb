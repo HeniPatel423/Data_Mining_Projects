{
 "cells": [
  {
   "cell_type": "markdown",
   "id": "edb7d842",
   "metadata": {},
   "source": [
    "# Developing a Predictive Model for Social Media Engagement\n"
   ]
  },
  {
   "cell_type": "markdown",
   "id": "6028e32b",
   "metadata": {},
   "source": [
    "### As My name is Heni Patel so I have to Logistic Regression"
   ]
  },
  {
   "cell_type": "markdown",
   "id": "dad3a84e",
   "metadata": {},
   "source": [
    "## 1. Importing Libraries"
   ]
  },
  {
   "cell_type": "code",
   "execution_count": 1,
   "id": "a4ca01ed",
   "metadata": {},
   "outputs": [],
   "source": [
    "#importing the required libraries\n",
    "\n",
    "# linear algebra\n",
    "import numpy as np\n",
    "\n",
    "# data Processing\n",
    "import pandas as pd\n",
    "\n",
    "# data visualisation\n",
    "import seaborn as sns\n",
    "import matplotlib.pyplot as plt\n",
    "%matplotlib inline\n",
    "\n",
    "from matplotlib import pyplot as plt\n",
    "from matplotlib import style"
   ]
  },
  {
   "cell_type": "code",
   "execution_count": 2,
   "id": "86b92537",
   "metadata": {},
   "outputs": [],
   "source": [
    "#importing the decision tree module\n",
    "\n",
    "from sklearn.linear_model import LogisticRegression\n",
    "from sklearn import preprocessing\n",
    "from sklearn.model_selection import train_test_split\n",
    "from sklearn import metrics"
   ]
  },
  {
   "cell_type": "markdown",
   "id": "1397c732",
   "metadata": {},
   "source": [
    "## 2. Loading The Dataset"
   ]
  },
  {
   "cell_type": "code",
   "execution_count": 3,
   "id": "9201bd1b",
   "metadata": {},
   "outputs": [],
   "source": [
    "social_media_data = pd.read_csv(\"social_media_data.csv\")"
   ]
  },
  {
   "cell_type": "code",
   "execution_count": 4,
   "id": "d8ed6e88",
   "metadata": {},
   "outputs": [
    {
     "name": "stdout",
     "output_type": "stream",
     "text": [
      "<class 'pandas.core.frame.DataFrame'>\n",
      "RangeIndex: 96 entries, 0 to 95\n",
      "Data columns (total 10 columns):\n",
      " #   Column                   Non-Null Count  Dtype \n",
      "---  ------                   --------------  ----- \n",
      " 0   Post Content             96 non-null     object\n",
      " 1   Post Frequency           96 non-null     int64 \n",
      " 2   Time of Day              96 non-null     object\n",
      " 3   Hashtags                 96 non-null     object\n",
      " 4   User Engagement History  96 non-null     int64 \n",
      " 5   Post Format              96 non-null     object\n",
      " 6   Audience Demographics    96 non-null     object\n",
      " 7   Likes                    96 non-null     int64 \n",
      " 8   Comments                 96 non-null     int64 \n",
      " 9   Shares                   96 non-null     int64 \n",
      "dtypes: int64(5), object(5)\n",
      "memory usage: 7.6+ KB\n"
     ]
    }
   ],
   "source": [
    "# printing the information of dataset\n",
    "\n",
    "social_media_data.info()"
   ]
  },
  {
   "cell_type": "code",
   "execution_count": 5,
   "id": "497b9187",
   "metadata": {},
   "outputs": [
    {
     "data": {
      "text/html": [
       "<div>\n",
       "<style scoped>\n",
       "    .dataframe tbody tr th:only-of-type {\n",
       "        vertical-align: middle;\n",
       "    }\n",
       "\n",
       "    .dataframe tbody tr th {\n",
       "        vertical-align: top;\n",
       "    }\n",
       "\n",
       "    .dataframe thead th {\n",
       "        text-align: right;\n",
       "    }\n",
       "</style>\n",
       "<table border=\"1\" class=\"dataframe\">\n",
       "  <thead>\n",
       "    <tr style=\"text-align: right;\">\n",
       "      <th></th>\n",
       "      <th>Post Content</th>\n",
       "      <th>Post Frequency</th>\n",
       "      <th>Time of Day</th>\n",
       "      <th>Hashtags</th>\n",
       "      <th>User Engagement History</th>\n",
       "      <th>Post Format</th>\n",
       "      <th>Audience Demographics</th>\n",
       "      <th>Likes</th>\n",
       "      <th>Comments</th>\n",
       "      <th>Shares</th>\n",
       "    </tr>\n",
       "  </thead>\n",
       "  <tbody>\n",
       "    <tr>\n",
       "      <th>0</th>\n",
       "      <td>Exciting news! Our new product is now available!</td>\n",
       "      <td>3</td>\n",
       "      <td>Morning</td>\n",
       "      <td>#newproduct #exciting</td>\n",
       "      <td>2000</td>\n",
       "      <td>Image</td>\n",
       "      <td>Young adults, US</td>\n",
       "      <td>250</td>\n",
       "      <td>50</td>\n",
       "      <td>100</td>\n",
       "    </tr>\n",
       "    <tr>\n",
       "      <th>1</th>\n",
       "      <td>Check out this amazing recipe!</td>\n",
       "      <td>1</td>\n",
       "      <td>Evening</td>\n",
       "      <td>#recipe #food</td>\n",
       "      <td>1500</td>\n",
       "      <td>Text</td>\n",
       "      <td>Food lovers, Worldwide</td>\n",
       "      <td>100</td>\n",
       "      <td>30</td>\n",
       "      <td>20</td>\n",
       "    </tr>\n",
       "    <tr>\n",
       "      <th>2</th>\n",
       "      <td>Happy Friday! Join us for a special event.</td>\n",
       "      <td>2</td>\n",
       "      <td>Afternoon</td>\n",
       "      <td>#fridayevent #fun</td>\n",
       "      <td>3000</td>\n",
       "      <td>Image</td>\n",
       "      <td>All ages, UK</td>\n",
       "      <td>500</td>\n",
       "      <td>100</td>\n",
       "      <td>150</td>\n",
       "    </tr>\n",
       "    <tr>\n",
       "      <th>3</th>\n",
       "      <td>New blog post: \"10 Tips for Success\"</td>\n",
       "      <td>1</td>\n",
       "      <td>Morning</td>\n",
       "      <td>#blogging #success</td>\n",
       "      <td>500</td>\n",
       "      <td>Text</td>\n",
       "      <td>Professionals, US</td>\n",
       "      <td>50</td>\n",
       "      <td>10</td>\n",
       "      <td>5</td>\n",
       "    </tr>\n",
       "    <tr>\n",
       "      <th>4</th>\n",
       "      <td>Exclusive offer! Limited time only.</td>\n",
       "      <td>1</td>\n",
       "      <td>Evening</td>\n",
       "      <td>#exclusive #sale</td>\n",
       "      <td>2500</td>\n",
       "      <td>Image</td>\n",
       "      <td>Shoppers, Worldwide</td>\n",
       "      <td>300</td>\n",
       "      <td>70</td>\n",
       "      <td>50</td>\n",
       "    </tr>\n",
       "  </tbody>\n",
       "</table>\n",
       "</div>"
      ],
      "text/plain": [
       "                                       Post Content  Post Frequency  \\\n",
       "0  Exciting news! Our new product is now available!               3   \n",
       "1                    Check out this amazing recipe!               1   \n",
       "2        Happy Friday! Join us for a special event.               2   \n",
       "3              New blog post: \"10 Tips for Success\"               1   \n",
       "4               Exclusive offer! Limited time only.               1   \n",
       "\n",
       "  Time of Day               Hashtags  User Engagement History Post Format  \\\n",
       "0     Morning  #newproduct #exciting                     2000       Image   \n",
       "1     Evening          #recipe #food                     1500        Text   \n",
       "2   Afternoon      #fridayevent #fun                     3000       Image   \n",
       "3     Morning     #blogging #success                      500        Text   \n",
       "4     Evening       #exclusive #sale                     2500       Image   \n",
       "\n",
       "    Audience Demographics  Likes  Comments  Shares  \n",
       "0        Young adults, US    250        50     100  \n",
       "1  Food lovers, Worldwide    100        30      20  \n",
       "2            All ages, UK    500       100     150  \n",
       "3       Professionals, US     50        10       5  \n",
       "4     Shoppers, Worldwide    300        70      50  "
      ]
     },
     "execution_count": 5,
     "metadata": {},
     "output_type": "execute_result"
    }
   ],
   "source": [
    "# Printing the head\n",
    "\n",
    "social_media_data.head()"
   ]
  },
  {
   "cell_type": "markdown",
   "id": "5b7bb25b",
   "metadata": {},
   "source": [
    "## 3. Data Preparation and Pre-processing "
   ]
  },
  {
   "cell_type": "code",
   "execution_count": 6,
   "id": "94e425df",
   "metadata": {},
   "outputs": [],
   "source": [
    "# Converting 'Time of Day' data transformation\n",
    "\n",
    "social_media_data.replace({'Time of Day': {'Morning': 1, 'Evening': 2, 'Afternoon': 3}}, inplace = True)\n"
   ]
  },
  {
   "cell_type": "code",
   "execution_count": 7,
   "id": "64303d20",
   "metadata": {},
   "outputs": [
    {
     "data": {
      "text/html": [
       "<div>\n",
       "<style scoped>\n",
       "    .dataframe tbody tr th:only-of-type {\n",
       "        vertical-align: middle;\n",
       "    }\n",
       "\n",
       "    .dataframe tbody tr th {\n",
       "        vertical-align: top;\n",
       "    }\n",
       "\n",
       "    .dataframe thead th {\n",
       "        text-align: right;\n",
       "    }\n",
       "</style>\n",
       "<table border=\"1\" class=\"dataframe\">\n",
       "  <thead>\n",
       "    <tr style=\"text-align: right;\">\n",
       "      <th></th>\n",
       "      <th>Post Content</th>\n",
       "      <th>Post Frequency</th>\n",
       "      <th>Time of Day</th>\n",
       "      <th>Hashtags</th>\n",
       "      <th>User Engagement History</th>\n",
       "      <th>Post Format</th>\n",
       "      <th>Audience Demographics</th>\n",
       "      <th>Likes</th>\n",
       "      <th>Comments</th>\n",
       "      <th>Shares</th>\n",
       "    </tr>\n",
       "  </thead>\n",
       "  <tbody>\n",
       "    <tr>\n",
       "      <th>0</th>\n",
       "      <td>Exciting news! Our new product is now available!</td>\n",
       "      <td>3</td>\n",
       "      <td>1</td>\n",
       "      <td>#newproduct #exciting</td>\n",
       "      <td>2000</td>\n",
       "      <td>Image</td>\n",
       "      <td>Young adults, US</td>\n",
       "      <td>250</td>\n",
       "      <td>50</td>\n",
       "      <td>100</td>\n",
       "    </tr>\n",
       "    <tr>\n",
       "      <th>1</th>\n",
       "      <td>Check out this amazing recipe!</td>\n",
       "      <td>1</td>\n",
       "      <td>2</td>\n",
       "      <td>#recipe #food</td>\n",
       "      <td>1500</td>\n",
       "      <td>Text</td>\n",
       "      <td>Food lovers, Worldwide</td>\n",
       "      <td>100</td>\n",
       "      <td>30</td>\n",
       "      <td>20</td>\n",
       "    </tr>\n",
       "    <tr>\n",
       "      <th>2</th>\n",
       "      <td>Happy Friday! Join us for a special event.</td>\n",
       "      <td>2</td>\n",
       "      <td>3</td>\n",
       "      <td>#fridayevent #fun</td>\n",
       "      <td>3000</td>\n",
       "      <td>Image</td>\n",
       "      <td>All ages, UK</td>\n",
       "      <td>500</td>\n",
       "      <td>100</td>\n",
       "      <td>150</td>\n",
       "    </tr>\n",
       "    <tr>\n",
       "      <th>3</th>\n",
       "      <td>New blog post: \"10 Tips for Success\"</td>\n",
       "      <td>1</td>\n",
       "      <td>1</td>\n",
       "      <td>#blogging #success</td>\n",
       "      <td>500</td>\n",
       "      <td>Text</td>\n",
       "      <td>Professionals, US</td>\n",
       "      <td>50</td>\n",
       "      <td>10</td>\n",
       "      <td>5</td>\n",
       "    </tr>\n",
       "    <tr>\n",
       "      <th>4</th>\n",
       "      <td>Exclusive offer! Limited time only.</td>\n",
       "      <td>1</td>\n",
       "      <td>2</td>\n",
       "      <td>#exclusive #sale</td>\n",
       "      <td>2500</td>\n",
       "      <td>Image</td>\n",
       "      <td>Shoppers, Worldwide</td>\n",
       "      <td>300</td>\n",
       "      <td>70</td>\n",
       "      <td>50</td>\n",
       "    </tr>\n",
       "  </tbody>\n",
       "</table>\n",
       "</div>"
      ],
      "text/plain": [
       "                                       Post Content  Post Frequency  \\\n",
       "0  Exciting news! Our new product is now available!               3   \n",
       "1                    Check out this amazing recipe!               1   \n",
       "2        Happy Friday! Join us for a special event.               2   \n",
       "3              New blog post: \"10 Tips for Success\"               1   \n",
       "4               Exclusive offer! Limited time only.               1   \n",
       "\n",
       "   Time of Day               Hashtags  User Engagement History Post Format  \\\n",
       "0            1  #newproduct #exciting                     2000       Image   \n",
       "1            2          #recipe #food                     1500        Text   \n",
       "2            3      #fridayevent #fun                     3000       Image   \n",
       "3            1     #blogging #success                      500        Text   \n",
       "4            2       #exclusive #sale                     2500       Image   \n",
       "\n",
       "    Audience Demographics  Likes  Comments  Shares  \n",
       "0        Young adults, US    250        50     100  \n",
       "1  Food lovers, Worldwide    100        30      20  \n",
       "2            All ages, UK    500       100     150  \n",
       "3       Professionals, US     50        10       5  \n",
       "4     Shoppers, Worldwide    300        70      50  "
      ]
     },
     "execution_count": 7,
     "metadata": {},
     "output_type": "execute_result"
    }
   ],
   "source": [
    "social_media_data.head()"
   ]
  },
  {
   "cell_type": "code",
   "execution_count": 8,
   "id": "faded694",
   "metadata": {},
   "outputs": [
    {
     "data": {
      "text/plain": [
       "Post Content               0\n",
       "Post Frequency             0\n",
       "Time of Day                0\n",
       "Hashtags                   0\n",
       "User Engagement History    0\n",
       "Post Format                0\n",
       "Audience Demographics      0\n",
       "Likes                      0\n",
       "Comments                   0\n",
       "Shares                     0\n",
       "dtype: int64"
      ]
     },
     "execution_count": 8,
     "metadata": {},
     "output_type": "execute_result"
    }
   ],
   "source": [
    "# checking the null values\n",
    "\n",
    "social_media_data.isnull().sum()"
   ]
  },
  {
   "cell_type": "code",
   "execution_count": 9,
   "id": "74d8b22e",
   "metadata": {},
   "outputs": [
    {
     "name": "stdout",
     "output_type": "stream",
     "text": [
      "                         Post Frequency  Time of Day  User Engagement History  \\\n",
      "Post Frequency                     1.00         0.48                     0.19   \n",
      "Time of Day                        0.48         1.00                     0.18   \n",
      "User Engagement History            0.19         0.18                     1.00   \n",
      "Likes                              0.30         0.29                     0.83   \n",
      "Comments                           0.24         0.25                     0.86   \n",
      "Shares                             0.28         0.28                     0.82   \n",
      "\n",
      "                         Likes  Comments  Shares  \n",
      "Post Frequency            0.30      0.24    0.28  \n",
      "Time of Day               0.29      0.25    0.28  \n",
      "User Engagement History   0.83      0.86    0.82  \n",
      "Likes                     1.00      0.98    0.96  \n",
      "Comments                  0.98      1.00    0.96  \n",
      "Shares                    0.96      0.96    1.00  \n"
     ]
    }
   ],
   "source": [
    "# Looking at the correlation matrix for the maximum correlated variables with the Likes variable \n",
    "\n",
    "correlation_matrix = social_media_data.corr().round(2)\n",
    "print(correlation_matrix)"
   ]
  },
  {
   "cell_type": "code",
   "execution_count": 10,
   "id": "235624df",
   "metadata": {},
   "outputs": [],
   "source": [
    "# seggregating the x i.e independent variable and target y variables\n",
    "\n",
    "x = social_media_data[['Post Frequency','Time of Day','User Engagement History','Comments','Shares']]\n",
    "y = social_media_data['Likes']"
   ]
  },
  {
   "cell_type": "code",
   "execution_count": 11,
   "id": "394c69b6",
   "metadata": {},
   "outputs": [],
   "source": [
    "# Making a label array\n",
    "\n",
    "labels= ['Post Frequency','Time of Day','User Engagement History','Comments','Shares']"
   ]
  },
  {
   "cell_type": "code",
   "execution_count": 12,
   "id": "8fd240d7",
   "metadata": {},
   "outputs": [
    {
     "name": "stdout",
     "output_type": "stream",
     "text": [
      "Post Frequency               1\n",
      "Time of Day                  1\n",
      "User Engagement History    500\n",
      "Comments                    10\n",
      "Shares                       5\n",
      "dtype: int64\n",
      "Post Frequency                3\n",
      "Time of Day                   3\n",
      "User Engagement History    4500\n",
      "Comments                    110\n",
      "Shares                      150\n",
      "dtype: int64\n"
     ]
    }
   ],
   "source": [
    "# Looking at Min and Max\n",
    "\n",
    "print(x.min())\n",
    "print(x.max())"
   ]
  },
  {
   "cell_type": "code",
   "execution_count": 14,
   "id": "4bd72330",
   "metadata": {},
   "outputs": [],
   "source": [
    "# Applying Normalization on the data for more easier convergence\n",
    "\n",
    "min_max_scaler = preprocessing.MinMaxScaler()\n",
    "x_scaled = min_max_scaler.fit_transform(x)\n",
    "X = pd.DataFrame(x_scaled)"
   ]
  },
  {
   "cell_type": "code",
   "execution_count": 15,
   "id": "c98f590c",
   "metadata": {},
   "outputs": [
    {
     "data": {
      "text/html": [
       "<div>\n",
       "<style scoped>\n",
       "    .dataframe tbody tr th:only-of-type {\n",
       "        vertical-align: middle;\n",
       "    }\n",
       "\n",
       "    .dataframe tbody tr th {\n",
       "        vertical-align: top;\n",
       "    }\n",
       "\n",
       "    .dataframe thead th {\n",
       "        text-align: right;\n",
       "    }\n",
       "</style>\n",
       "<table border=\"1\" class=\"dataframe\">\n",
       "  <thead>\n",
       "    <tr style=\"text-align: right;\">\n",
       "      <th></th>\n",
       "      <th>0</th>\n",
       "      <th>1</th>\n",
       "      <th>2</th>\n",
       "      <th>3</th>\n",
       "      <th>4</th>\n",
       "    </tr>\n",
       "  </thead>\n",
       "  <tbody>\n",
       "    <tr>\n",
       "      <th>0</th>\n",
       "      <td>1.0</td>\n",
       "      <td>0.0</td>\n",
       "      <td>0.375</td>\n",
       "      <td>0.4</td>\n",
       "      <td>0.655172</td>\n",
       "    </tr>\n",
       "    <tr>\n",
       "      <th>1</th>\n",
       "      <td>0.0</td>\n",
       "      <td>0.5</td>\n",
       "      <td>0.250</td>\n",
       "      <td>0.2</td>\n",
       "      <td>0.103448</td>\n",
       "    </tr>\n",
       "    <tr>\n",
       "      <th>2</th>\n",
       "      <td>0.5</td>\n",
       "      <td>1.0</td>\n",
       "      <td>0.625</td>\n",
       "      <td>0.9</td>\n",
       "      <td>1.000000</td>\n",
       "    </tr>\n",
       "    <tr>\n",
       "      <th>3</th>\n",
       "      <td>0.0</td>\n",
       "      <td>0.0</td>\n",
       "      <td>0.000</td>\n",
       "      <td>0.0</td>\n",
       "      <td>0.000000</td>\n",
       "    </tr>\n",
       "    <tr>\n",
       "      <th>4</th>\n",
       "      <td>0.0</td>\n",
       "      <td>0.5</td>\n",
       "      <td>0.500</td>\n",
       "      <td>0.6</td>\n",
       "      <td>0.310345</td>\n",
       "    </tr>\n",
       "  </tbody>\n",
       "</table>\n",
       "</div>"
      ],
      "text/plain": [
       "     0    1      2    3         4\n",
       "0  1.0  0.0  0.375  0.4  0.655172\n",
       "1  0.0  0.5  0.250  0.2  0.103448\n",
       "2  0.5  1.0  0.625  0.9  1.000000\n",
       "3  0.0  0.0  0.000  0.0  0.000000\n",
       "4  0.0  0.5  0.500  0.6  0.310345"
      ]
     },
     "execution_count": 15,
     "metadata": {},
     "output_type": "execute_result"
    }
   ],
   "source": [
    "X.head()"
   ]
  },
  {
   "cell_type": "markdown",
   "id": "05c9e7c4",
   "metadata": {},
   "source": [
    "## 4. Model Building"
   ]
  },
  {
   "cell_type": "code",
   "execution_count": 16,
   "id": "89182be3",
   "metadata": {},
   "outputs": [
    {
     "name": "stdout",
     "output_type": "stream",
     "text": [
      "(76, 5)\n",
      "(20, 5)\n",
      "(76,)\n",
      "(20,)\n"
     ]
    }
   ],
   "source": [
    "# 80% is train data and 20% is test data\n",
    "\n",
    "X_train, X_test, Y_train, Y_test = train_test_split(X,y,test_size=0.2, random_state=5)\n",
    "print(X_train.shape)\n",
    "print(X_test.shape)\n",
    "print(Y_train.shape)\n",
    "print(Y_test.shape)"
   ]
  },
  {
   "cell_type": "code",
   "execution_count": 18,
   "id": "e908ae9b",
   "metadata": {
    "scrolled": true
   },
   "outputs": [
    {
     "data": {
      "text/plain": [
       "LogisticRegression()"
      ]
     },
     "execution_count": 18,
     "metadata": {},
     "output_type": "execute_result"
    }
   ],
   "source": [
    "#instantiate the model\n",
    "logistic_regression = LogisticRegression() \n",
    "\n",
    "\n",
    "# fit the model with data\n",
    "logistic_regression.fit(X_train,Y_train)"
   ]
  },
  {
   "cell_type": "markdown",
   "id": "15ca5a06",
   "metadata": {},
   "source": [
    "## 5. Prediction"
   ]
  },
  {
   "cell_type": "code",
   "execution_count": 19,
   "id": "f007220b",
   "metadata": {},
   "outputs": [
    {
     "name": "stdout",
     "output_type": "stream",
     "text": [
      "[400 400 400  80  60 180  60 320 400 180  60 320 400 320 320 180 400 400\n",
      " 320 180]\n"
     ]
    }
   ],
   "source": [
    "# Predicting with the test data\n",
    "\n",
    "Y_pred = logistic_regression.predict(X_test)\n",
    "print(Y_pred)"
   ]
  },
  {
   "cell_type": "markdown",
   "id": "b2c7e59c",
   "metadata": {},
   "source": [
    "## 6. Evaluating Performance"
   ]
  },
  {
   "cell_type": "code",
   "execution_count": 20,
   "id": "5b0af130",
   "metadata": {},
   "outputs": [
    {
     "name": "stdout",
     "output_type": "stream",
     "text": [
      "Mean Squared Error (MSE): 3566.25\n",
      "Mean Absolute Error (MAE): 49.25\n",
      "R-squared: 0.7439085143911207\n"
     ]
    }
   ],
   "source": [
    "#Evaluating MSE, MAE and R2_Score\n",
    "\n",
    "from sklearn.metrics import mean_squared_error, mean_absolute_error, r2_score\n",
    "\n",
    "mse = mean_squared_error(Y_test, Y_pred)\n",
    "mae = mean_absolute_error(Y_test, Y_pred)\n",
    "r2 = r2_score(Y_test, Y_pred)\n",
    "\n",
    "# Print metrics and percentage of error\n",
    "print(\"Mean Squared Error (MSE):\", mse)\n",
    "print(\"Mean Absolute Error (MAE):\", mae)\n",
    "print(\"R-squared:\", r2)\n"
   ]
  },
  {
   "cell_type": "code",
   "execution_count": 21,
   "id": "15ebf45d",
   "metadata": {},
   "outputs": [
    {
     "name": "stdout",
     "output_type": "stream",
     "text": [
      "[[0 0 0 0 0 0 0 0 0 0 0 0 0 0 0]\n",
      " [1 0 0 0 0 0 0 0 0 0 0 0 0 0 0]\n",
      " [1 0 0 0 0 0 0 0 0 0 0 0 0 0 0]\n",
      " [1 0 0 0 0 0 0 0 0 0 0 0 0 0 0]\n",
      " [0 0 0 0 0 0 2 0 0 0 0 0 0 0 0]\n",
      " [0 0 0 1 0 0 0 0 0 0 0 0 0 0 0]\n",
      " [0 0 0 0 0 0 0 0 0 0 0 0 0 0 0]\n",
      " [0 0 0 0 0 0 0 0 0 0 1 0 0 0 0]\n",
      " [0 0 0 0 0 0 2 0 0 0 0 0 0 0 0]\n",
      " [0 0 0 0 0 0 0 0 0 0 2 0 0 0 0]\n",
      " [0 0 0 0 0 0 0 0 0 0 0 0 0 2 0]\n",
      " [0 0 0 0 0 0 0 0 0 0 2 0 0 1 0]\n",
      " [0 0 0 0 0 0 0 0 0 0 0 0 0 3 0]\n",
      " [0 0 0 0 0 0 0 0 0 0 0 0 0 0 0]\n",
      " [0 0 0 0 0 0 0 0 0 0 0 0 0 1 0]]\n"
     ]
    }
   ],
   "source": [
    "# Finding Confusion Metrics \n",
    "\n",
    "confusion_matrix = metrics.confusion_matrix(Y_test, Y_pred)\n",
    "print(confusion_matrix)"
   ]
  },
  {
   "cell_type": "code",
   "execution_count": 22,
   "id": "b235679e",
   "metadata": {
    "scrolled": true
   },
   "outputs": [
    {
     "data": {
      "text/plain": [
       "Text(0.5, 23.52222222222222, 'predicted label')"
      ]
     },
     "execution_count": 22,
     "metadata": {},
     "output_type": "execute_result"
    },
    {
     "data": {
      "image/png": "[encoded data removed]",
      "text/plain": [
       "<Figure size 640x480 with 2 Axes>"
      ]
     },
     "metadata": {},
     "output_type": "display_data"
    }
   ],
   "source": [
    "sns.heatmap(pd.DataFrame(confusion_matrix), annot=True, cmap = \"YlGnBu\" ,fmt= 'g')\n",
    "plt.title('Confusion matrix')\n",
    "plt.ylabel('Actual label')\n",
    "plt.xlabel('predicted label')"
   ]
  },
  {
   "cell_type": "code",
   "execution_count": 23,
   "id": "1ea77d25",
   "metadata": {},
   "outputs": [
    {
     "name": "stdout",
     "output_type": "stream",
     "text": [
      "Accuracy: 0.0\n",
      "Precision: 0.0\n",
      "Recall: 0.0\n"
     ]
    }
   ],
   "source": [
    "# Accuracy , Precision and Recall\n",
    "\n",
    "print(\"Accuracy:\", metrics.accuracy_score(Y_test, Y_pred))\n",
    "print(\"Precision:\", metrics.precision_score(Y_test, Y_pred, average='micro'))\n",
    "print(\"Recall:\", metrics.recall_score(Y_test, Y_pred, average='micro'))"
   ]
  },
  {
   "cell_type": "markdown",
   "id": "654d7c76",
   "metadata": {},
   "source": [
    "## 7. Visualization"
   ]
  },
  {
   "cell_type": "code",
   "execution_count": 24,
   "id": "40e1ad13",
   "metadata": {},
   "outputs": [
    {
     "data": {
      "image/png": "[encoded data removed]",
      "text/plain": [
       "<Figure size 400x300 with 1 Axes>"
      ]
     },
     "metadata": {},
     "output_type": "display_data"
    },
    {
     "data": {
      "image/png": "[encoded data removed]",
      "text/plain": [
       "<Figure size 400x300 with 1 Axes>"
      ]
     },
     "metadata": {},
     "output_type": "display_data"
    },
    {
     "data": {
      "image/png": "[encoded data removed]",
      "text/plain": [
       "<Figure size 400x300 with 1 Axes>"
      ]
     },
     "metadata": {},
     "output_type": "display_data"
    },
    {
     "data": {
      "image/png": "[encoded data removed]",
      "text/plain": [
       "<Figure size 400x300 with 1 Axes>"
      ]
     },
     "metadata": {},
     "output_type": "display_data"
    },
    {
     "data": {
      "image/png": "[encoded data removed]",
      "text/plain": [
       "<Figure size 400x300 with 1 Axes>"
      ]
     },
     "metadata": {},
     "output_type": "display_data"
    }
   ],
   "source": [
    "# visualizing the graph of every variable against the Likes variable\n",
    "\n",
    "for i in range(5):\n",
    "    plt.figure(i, figsize=(4,3))\n",
    "    plt.xlabel(labels[i])\n",
    "    ax=sns.regplot(x=X_test[i],y=Y_pred,data=social_media_data, logistic=True, ci=None, line_kws={'color': 'red'})\n",
    "    ax.set(xlabel=labels[i] , ylabel='Likes')\n",
    "    plt.show()"
   ]
  },
  {
   "cell_type": "markdown",
   "id": "3ac39232",
   "metadata": {},
   "source": [
    "# Trying Decision Tree"
   ]
  },
  {
   "cell_type": "markdown",
   "id": "ced91430",
   "metadata": {},
   "source": [
    "###  Importing Libraries"
   ]
  },
  {
   "cell_type": "code",
   "execution_count": 25,
   "id": "78f84faa",
   "metadata": {},
   "outputs": [],
   "source": [
    "from sklearn.tree import DecisionTreeClassifier\n",
    "from sklearn.model_selection import train_test_split"
   ]
  },
  {
   "cell_type": "markdown",
   "id": "e0565191",
   "metadata": {},
   "source": [
    "### Model"
   ]
  },
  {
   "cell_type": "code",
   "execution_count": 26,
   "id": "17ef6233",
   "metadata": {},
   "outputs": [],
   "source": [
    "x1 = social_media_data[['Post Frequency','User Engagement History','Comments','Shares']]\n",
    "y1 = social_media_data['Likes']"
   ]
  },
  {
   "cell_type": "code",
   "execution_count": 27,
   "id": "530b4f1a",
   "metadata": {},
   "outputs": [
    {
     "name": "stdout",
     "output_type": "stream",
     "text": [
      "(76, 4)\n",
      "(20, 4)\n",
      "(76,)\n",
      "(20,)\n"
     ]
    }
   ],
   "source": [
    "X_train, X_test, Y_train, Y_test = train_test_split(x1,y1,test_size=0.2, random_state=5)\n",
    "print(X_train.shape)\n",
    "print(X_test.shape)\n",
    "print(Y_train.shape)\n",
    "print(Y_test.shape)"
   ]
  },
  {
   "cell_type": "code",
   "execution_count": 28,
   "id": "ce63d4b0",
   "metadata": {},
   "outputs": [
    {
     "data": {
      "text/plain": [
       "DecisionTreeClassifier()"
      ]
     },
     "execution_count": 28,
     "metadata": {},
     "output_type": "execute_result"
    }
   ],
   "source": [
    "decision_tree = DecisionTreeClassifier()\n",
    "decision_tree.fit(X_train,Y_train)"
   ]
  },
  {
   "cell_type": "markdown",
   "id": "aad10859",
   "metadata": {},
   "source": [
    "### Prediction"
   ]
  },
  {
   "cell_type": "code",
   "execution_count": 29,
   "id": "238b5420",
   "metadata": {},
   "outputs": [
    {
     "name": "stdout",
     "output_type": "stream",
     "text": [
      "[320 400 350 100  75  90  70 180 300 270  65 320 320 350 320  90 420 400\n",
      " 350 270]\n"
     ]
    }
   ],
   "source": [
    "Y_pred = decision_tree.predict(X_test)\n",
    "print(Y_pred)"
   ]
  },
  {
   "cell_type": "markdown",
   "id": "069493be",
   "metadata": {},
   "source": [
    "### Accuracy"
   ]
  },
  {
   "cell_type": "code",
   "execution_count": 30,
   "id": "1defe692",
   "metadata": {},
   "outputs": [
    {
     "name": "stdout",
     "output_type": "stream",
     "text": [
      "98.68\n"
     ]
    }
   ],
   "source": [
    "acc_decision_tree = round(decision_tree.score(X_train, Y_train)* 100, 2)\n",
    "print(acc_decision_tree)\n",
    "\n"
   ]
  },
  {
   "cell_type": "markdown",
   "id": "264ca398",
   "metadata": {},
   "source": [
    "### Visualization"
   ]
  },
  {
   "cell_type": "code",
   "execution_count": 33,
   "id": "f7e94c15",
   "metadata": {},
   "outputs": [],
   "source": [
    "from sklearn.datasets import load_iris\n",
    "from sklearn import tree\n",
    "\n",
    "feature_names = x1.columns.tolist()\n",
    "class_names = np.unique(Y_train).tolist()\n",
    "\n",
    "# Convert feature names and class names to string\n",
    "feature_names = [str(name) for name in feature_names]\n",
    "class_names = [str(name) for name in class_names]"
   ]
  },
  {
   "cell_type": "code",
   "execution_count": 34,
   "id": "caef3274",
   "metadata": {},
   "outputs": [
    {
     "data": {
      "text/plain": [
       "[Text(0.5494791666666666, 0.9545454545454546, 'Comments <= 62.5\\ngini = 0.948\\nsamples = 76\\nvalue = [2, 1, 5, 1, 3, 1, 5, 2, 5, 3, 1, 6, 2, 4\\n2, 3, 3, 2, 5, 6, 3, 1, 6, 2, 1, 1]\\nclass = 180'),\n",
       " Text(0.21354166666666666, 0.8636363636363636, 'Comments <= 13.5\\ngini = 0.928\\nsamples = 51\\nvalue = [2, 1, 5, 1, 3, 1, 5, 2, 5, 3, 1, 6, 2, 4\\n2, 3, 3, 2, 0, 0, 0, 0, 0, 0, 0, 0]\\nclass = 180'),\n",
       " Text(0.0625, 0.7727272727272727, 'User Engagement History <= 1550.0\\ngini = 0.531\\nsamples = 8\\nvalue = [2, 1, 5, 0, 0, 0, 0, 0, 0, 0, 0, 0, 0, 0\\n0, 0, 0, 0, 0, 0, 0, 0, 0, 0, 0, 0]\\nclass = 60'),\n",
       " Text(0.041666666666666664, 0.6818181818181818, 'Shares <= 5.5\\ngini = 0.278\\nsamples = 6\\nvalue = [0, 1, 5, 0, 0, 0, 0, 0, 0, 0, 0, 0, 0, 0\\n0, 0, 0, 0, 0, 0, 0, 0, 0, 0, 0, 0]\\nclass = 60'),\n",
       " Text(0.020833333333333332, 0.5909090909090909, 'gini = 0.0\\nsamples = 1\\nvalue = [0, 1, 0, 0, 0, 0, 0, 0, 0, 0, 0, 0, 0, 0\\n0, 0, 0, 0, 0, 0, 0, 0, 0, 0, 0, 0]\\nclass = 50'),\n",
       " Text(0.0625, 0.5909090909090909, 'gini = 0.0\\nsamples = 5\\nvalue = [0, 0, 5, 0, 0, 0, 0, 0, 0, 0, 0, 0, 0, 0\\n0, 0, 0, 0, 0, 0, 0, 0, 0, 0, 0, 0]\\nclass = 60'),\n",
       " Text(0.08333333333333333, 0.6818181818181818, 'gini = 0.0\\nsamples = 2\\nvalue = [2, 0, 0, 0, 0, 0, 0, 0, 0, 0, 0, 0, 0, 0\\n0, 0, 0, 0, 0, 0, 0, 0, 0, 0, 0, 0]\\nclass = 45'),\n",
       " Text(0.3645833333333333, 0.7727272727272727, 'Comments <= 32.5\\ngini = 0.915\\nsamples = 43\\nvalue = [0, 0, 0, 1, 3, 1, 5, 2, 5, 3, 1, 6, 2, 4\\n2, 3, 3, 2, 0, 0, 0, 0, 0, 0, 0, 0]\\nclass = 180'),\n",
       " Text(0.1875, 0.6818181818181818, 'User Engagement History <= 925.0\\ngini = 0.803\\nsamples = 19\\nvalue = [0, 0, 0, 1, 3, 1, 5, 1, 5, 3, 0, 0, 0, 0\\n0, 0, 0, 0, 0, 0, 0, 0, 0, 0, 0, 0]\\nclass = 80'),\n",
       " Text(0.10416666666666667, 0.5909090909090909, 'Comments <= 19.0\\ngini = 0.667\\nsamples = 9\\nvalue = [0, 0, 0, 1, 3, 1, 4, 0, 0, 0, 0, 0, 0, 0\\n0, 0, 0, 0, 0, 0, 0, 0, 0, 0, 0, 0]\\nclass = 80'),\n",
       " Text(0.0625, 0.5, 'Shares <= 9.0\\ngini = 0.5\\nsamples = 6\\nvalue = [0, 0, 0, 0, 1, 1, 4, 0, 0, 0, 0, 0, 0, 0\\n0, 0, 0, 0, 0, 0, 0, 0, 0, 0, 0, 0]\\nclass = 80'),\n",
       " Text(0.041666666666666664, 0.4090909090909091, 'gini = 0.0\\nsamples = 1\\nvalue = [0, 0, 0, 0, 1, 0, 0, 0, 0, 0, 0, 0, 0, 0\\n0, 0, 0, 0, 0, 0, 0, 0, 0, 0, 0, 0]\\nclass = 70'),\n",
       " Text(0.08333333333333333, 0.4090909090909091, 'Shares <= 11.0\\ngini = 0.32\\nsamples = 5\\nvalue = [0, 0, 0, 0, 0, 1, 4, 0, 0, 0, 0, 0, 0, 0\\n0, 0, 0, 0, 0, 0, 0, 0, 0, 0, 0, 0]\\nclass = 80'),\n",
       " Text(0.0625, 0.3181818181818182, 'User Engagement History <= 700.0\\ngini = 0.5\\nsamples = 2\\nvalue = [0, 0, 0, 0, 0, 1, 1, 0, 0, 0, 0, 0, 0, 0\\n0, 0, 0, 0, 0, 0, 0, 0, 0, 0, 0, 0]\\nclass = 75'),\n",
       " Text(0.041666666666666664, 0.22727272727272727, 'gini = 0.0\\nsamples = 1\\nvalue = [0, 0, 0, 0, 0, 0, 1, 0, 0, 0, 0, 0, 0, 0\\n0, 0, 0, 0, 0, 0, 0, 0, 0, 0, 0, 0]\\nclass = 80'),\n",
       " Text(0.08333333333333333, 0.22727272727272727, 'gini = 0.0\\nsamples = 1\\nvalue = [0, 0, 0, 0, 0, 1, 0, 0, 0, 0, 0, 0, 0, 0\\n0, 0, 0, 0, 0, 0, 0, 0, 0, 0, 0, 0]\\nclass = 75'),\n",
       " Text(0.10416666666666667, 0.3181818181818182, 'gini = 0.0\\nsamples = 3\\nvalue = [0, 0, 0, 0, 0, 0, 3, 0, 0, 0, 0, 0, 0, 0\\n0, 0, 0, 0, 0, 0, 0, 0, 0, 0, 0, 0]\\nclass = 80'),\n",
       " Text(0.14583333333333334, 0.5, 'User Engagement History <= 800.0\\ngini = 0.444\\nsamples = 3\\nvalue = [0, 0, 0, 1, 2, 0, 0, 0, 0, 0, 0, 0, 0, 0\\n0, 0, 0, 0, 0, 0, 0, 0, 0, 0, 0, 0]\\nclass = 70'),\n",
       " Text(0.125, 0.4090909090909091, 'gini = 0.0\\nsamples = 1\\nvalue = [0, 0, 0, 1, 0, 0, 0, 0, 0, 0, 0, 0, 0, 0\\n0, 0, 0, 0, 0, 0, 0, 0, 0, 0, 0, 0]\\nclass = 65'),\n",
       " Text(0.16666666666666666, 0.4090909090909091, 'gini = 0.0\\nsamples = 2\\nvalue = [0, 0, 0, 0, 2, 0, 0, 0, 0, 0, 0, 0, 0, 0\\n0, 0, 0, 0, 0, 0, 0, 0, 0, 0, 0, 0]\\nclass = 70'),\n",
       " Text(0.2708333333333333, 0.5909090909090909, 'User Engagement History <= 1350.0\\ngini = 0.64\\nsamples = 10\\nvalue = [0, 0, 0, 0, 0, 0, 1, 1, 5, 3, 0, 0, 0, 0\\n0, 0, 0, 0, 0, 0, 0, 0, 0, 0, 0, 0]\\nclass = 100'),\n",
       " Text(0.22916666666666666, 0.5, 'Shares <= 17.5\\ngini = 0.32\\nsamples = 5\\nvalue = [0, 0, 0, 0, 0, 0, 0, 1, 4, 0, 0, 0, 0, 0\\n0, 0, 0, 0, 0, 0, 0, 0, 0, 0, 0, 0]\\nclass = 100'),\n",
       " Text(0.20833333333333334, 0.4090909090909091, 'gini = 0.0\\nsamples = 2\\nvalue = [0, 0, 0, 0, 0, 0, 0, 0, 2, 0, 0, 0, 0, 0\\n0, 0, 0, 0, 0, 0, 0, 0, 0, 0, 0, 0]\\nclass = 100'),\n",
       " Text(0.25, 0.4090909090909091, 'Comments <= 27.5\\ngini = 0.444\\nsamples = 3\\nvalue = [0, 0, 0, 0, 0, 0, 0, 1, 2, 0, 0, 0, 0, 0\\n0, 0, 0, 0, 0, 0, 0, 0, 0, 0, 0, 0]\\nclass = 100'),\n",
       " Text(0.22916666666666666, 0.3181818181818182, 'gini = 0.5\\nsamples = 2\\nvalue = [0, 0, 0, 0, 0, 0, 0, 1, 1, 0, 0, 0, 0, 0\\n0, 0, 0, 0, 0, 0, 0, 0, 0, 0, 0, 0]\\nclass = 90'),\n",
       " Text(0.2708333333333333, 0.3181818181818182, 'gini = 0.0\\nsamples = 1\\nvalue = [0, 0, 0, 0, 0, 0, 0, 0, 1, 0, 0, 0, 0, 0\\n0, 0, 0, 0, 0, 0, 0, 0, 0, 0, 0, 0]\\nclass = 100'),\n",
       " Text(0.3125, 0.5, 'Shares <= 14.0\\ngini = 0.56\\nsamples = 5\\nvalue = [0, 0, 0, 0, 0, 0, 1, 0, 1, 3, 0, 0, 0, 0\\n0, 0, 0, 0, 0, 0, 0, 0, 0, 0, 0, 0]\\nclass = 120'),\n",
       " Text(0.2916666666666667, 0.4090909090909091, 'gini = 0.0\\nsamples = 1\\nvalue = [0, 0, 0, 0, 0, 0, 1, 0, 0, 0, 0, 0, 0, 0\\n0, 0, 0, 0, 0, 0, 0, 0, 0, 0, 0, 0]\\nclass = 80'),\n",
       " Text(0.3333333333333333, 0.4090909090909091, 'Comments <= 27.5\\ngini = 0.375\\nsamples = 4\\nvalue = [0, 0, 0, 0, 0, 0, 0, 0, 1, 3, 0, 0, 0, 0\\n0, 0, 0, 0, 0, 0, 0, 0, 0, 0, 0, 0]\\nclass = 120'),\n",
       " Text(0.3125, 0.3181818181818182, 'gini = 0.0\\nsamples = 2\\nvalue = [0, 0, 0, 0, 0, 0, 0, 0, 0, 2, 0, 0, 0, 0\\n0, 0, 0, 0, 0, 0, 0, 0, 0, 0, 0, 0]\\nclass = 120'),\n",
       " Text(0.3541666666666667, 0.3181818181818182, 'User Engagement History <= 2500.0\\ngini = 0.5\\nsamples = 2\\nvalue = [0, 0, 0, 0, 0, 0, 0, 0, 1, 1, 0, 0, 0, 0\\n0, 0, 0, 0, 0, 0, 0, 0, 0, 0, 0, 0]\\nclass = 100'),\n",
       " Text(0.3333333333333333, 0.22727272727272727, 'gini = 0.0\\nsamples = 1\\nvalue = [0, 0, 0, 0, 0, 0, 0, 0, 1, 0, 0, 0, 0, 0\\n0, 0, 0, 0, 0, 0, 0, 0, 0, 0, 0, 0]\\nclass = 100'),\n",
       " Text(0.375, 0.22727272727272727, 'gini = 0.0\\nsamples = 1\\nvalue = [0, 0, 0, 0, 0, 0, 0, 0, 0, 1, 0, 0, 0, 0\\n0, 0, 0, 0, 0, 0, 0, 0, 0, 0, 0, 0]\\nclass = 120'),\n",
       " Text(0.5416666666666666, 0.6818181818181818, 'Comments <= 47.5\\ngini = 0.854\\nsamples = 24\\nvalue = [0, 0, 0, 0, 0, 0, 0, 1, 0, 0, 1, 6, 2, 4\\n2, 3, 3, 2, 0, 0, 0, 0, 0, 0, 0, 0]\\nclass = 180'),\n",
       " Text(0.4375, 0.5909090909090909, 'Comments <= 37.5\\ngini = 0.738\\nsamples = 15\\nvalue = [0, 0, 0, 0, 0, 0, 0, 1, 0, 0, 1, 6, 2, 4\\n1, 0, 0, 0, 0, 0, 0, 0, 0, 0, 0, 0]\\nclass = 180'),\n",
       " Text(0.3958333333333333, 0.5, 'Shares <= 35.0\\ngini = 0.32\\nsamples = 5\\nvalue = [0, 0, 0, 0, 0, 0, 0, 0, 0, 0, 1, 4, 0, 0\\n0, 0, 0, 0, 0, 0, 0, 0, 0, 0, 0, 0]\\nclass = 180'),\n",
       " Text(0.375, 0.4090909090909091, 'gini = 0.0\\nsamples = 1\\nvalue = [0, 0, 0, 0, 0, 0, 0, 0, 0, 0, 1, 0, 0, 0\\n0, 0, 0, 0, 0, 0, 0, 0, 0, 0, 0, 0]\\nclass = 150'),\n",
       " Text(0.4166666666666667, 0.4090909090909091, 'gini = 0.0\\nsamples = 4\\nvalue = [0, 0, 0, 0, 0, 0, 0, 0, 0, 0, 0, 4, 0, 0\\n0, 0, 0, 0, 0, 0, 0, 0, 0, 0, 0, 0]\\nclass = 180'),\n",
       " Text(0.4791666666666667, 0.5, 'User Engagement History <= 1400.0\\ngini = 0.74\\nsamples = 10\\nvalue = [0, 0, 0, 0, 0, 0, 0, 1, 0, 0, 0, 2, 2, 4\\n1, 0, 0, 0, 0, 0, 0, 0, 0, 0, 0, 0]\\nclass = 200'),\n",
       " Text(0.4583333333333333, 0.4090909090909091, 'gini = 0.0\\nsamples = 1\\nvalue = [0, 0, 0, 0, 0, 0, 0, 1, 0, 0, 0, 0, 0, 0\\n0, 0, 0, 0, 0, 0, 0, 0, 0, 0, 0, 0]\\nclass = 90'),\n",
       " Text(0.5, 0.4090909090909091, 'User Engagement History <= 2350.0\\ngini = 0.691\\nsamples = 9\\nvalue = [0, 0, 0, 0, 0, 0, 0, 0, 0, 0, 0, 2, 2, 4\\n1, 0, 0, 0, 0, 0, 0, 0, 0, 0, 0, 0]\\nclass = 200'),\n",
       " Text(0.4791666666666667, 0.3181818181818182, 'Shares <= 47.5\\ngini = 0.625\\nsamples = 8\\nvalue = [0, 0, 0, 0, 0, 0, 0, 0, 0, 0, 0, 2, 2, 4\\n0, 0, 0, 0, 0, 0, 0, 0, 0, 0, 0, 0]\\nclass = 200'),\n",
       " Text(0.4375, 0.22727272727272727, 'Shares <= 40.0\\ngini = 0.625\\nsamples = 4\\nvalue = [0, 0, 0, 0, 0, 0, 0, 0, 0, 0, 0, 1, 2, 1\\n0, 0, 0, 0, 0, 0, 0, 0, 0, 0, 0, 0]\\nclass = 190'),\n",
       " Text(0.4166666666666667, 0.13636363636363635, 'gini = 0.0\\nsamples = 1\\nvalue = [0, 0, 0, 0, 0, 0, 0, 0, 0, 0, 0, 0, 0, 1\\n0, 0, 0, 0, 0, 0, 0, 0, 0, 0, 0, 0]\\nclass = 200'),\n",
       " Text(0.4583333333333333, 0.13636363636363635, 'User Engagement History <= 1700.0\\ngini = 0.444\\nsamples = 3\\nvalue = [0, 0, 0, 0, 0, 0, 0, 0, 0, 0, 0, 1, 2, 0\\n0, 0, 0, 0, 0, 0, 0, 0, 0, 0, 0, 0]\\nclass = 190'),\n",
       " Text(0.4375, 0.045454545454545456, 'gini = 0.0\\nsamples = 1\\nvalue = [0, 0, 0, 0, 0, 0, 0, 0, 0, 0, 0, 1, 0, 0\\n0, 0, 0, 0, 0, 0, 0, 0, 0, 0, 0, 0]\\nclass = 180'),\n",
       " Text(0.4791666666666667, 0.045454545454545456, 'gini = 0.0\\nsamples = 2\\nvalue = [0, 0, 0, 0, 0, 0, 0, 0, 0, 0, 0, 0, 2, 0\\n0, 0, 0, 0, 0, 0, 0, 0, 0, 0, 0, 0]\\nclass = 190'),\n",
       " Text(0.5208333333333334, 0.22727272727272727, 'Shares <= 55.0\\ngini = 0.375\\nsamples = 4\\nvalue = [0, 0, 0, 0, 0, 0, 0, 0, 0, 0, 0, 1, 0, 3\\n0, 0, 0, 0, 0, 0, 0, 0, 0, 0, 0, 0]\\nclass = 200'),\n",
       " Text(0.5, 0.13636363636363635, 'gini = 0.0\\nsamples = 3\\nvalue = [0, 0, 0, 0, 0, 0, 0, 0, 0, 0, 0, 0, 0, 3\\n0, 0, 0, 0, 0, 0, 0, 0, 0, 0, 0, 0]\\nclass = 200'),\n",
       " Text(0.5416666666666666, 0.13636363636363635, 'gini = 0.0\\nsamples = 1\\nvalue = [0, 0, 0, 0, 0, 0, 0, 0, 0, 0, 0, 1, 0, 0\\n0, 0, 0, 0, 0, 0, 0, 0, 0, 0, 0, 0]\\nclass = 180'),\n",
       " Text(0.5208333333333334, 0.3181818181818182, 'gini = 0.0\\nsamples = 1\\nvalue = [0, 0, 0, 0, 0, 0, 0, 0, 0, 0, 0, 0, 0, 0\\n1, 0, 0, 0, 0, 0, 0, 0, 0, 0, 0, 0]\\nclass = 220'),\n",
       " Text(0.6458333333333334, 0.5909090909090909, 'User Engagement History <= 2050.0\\ngini = 0.716\\nsamples = 9\\nvalue = [0, 0, 0, 0, 0, 0, 0, 0, 0, 0, 0, 0, 0, 0\\n1, 3, 3, 2, 0, 0, 0, 0, 0, 0, 0, 0]\\nclass = 240'),\n",
       " Text(0.6041666666666666, 0.5, 'Shares <= 55.0\\ngini = 0.375\\nsamples = 4\\nvalue = [0, 0, 0, 0, 0, 0, 0, 0, 0, 0, 0, 0, 0, 0\\n1, 0, 3, 0, 0, 0, 0, 0, 0, 0, 0, 0]\\nclass = 250'),\n",
       " Text(0.5833333333333334, 0.4090909090909091, 'Shares <= 45.0\\ngini = 0.5\\nsamples = 2\\nvalue = [0, 0, 0, 0, 0, 0, 0, 0, 0, 0, 0, 0, 0, 0\\n1, 0, 1, 0, 0, 0, 0, 0, 0, 0, 0, 0]\\nclass = 220'),\n",
       " Text(0.5625, 0.3181818181818182, 'gini = 0.0\\nsamples = 1\\nvalue = [0, 0, 0, 0, 0, 0, 0, 0, 0, 0, 0, 0, 0, 0\\n0, 0, 1, 0, 0, 0, 0, 0, 0, 0, 0, 0]\\nclass = 250'),\n",
       " Text(0.6041666666666666, 0.3181818181818182, 'gini = 0.0\\nsamples = 1\\nvalue = [0, 0, 0, 0, 0, 0, 0, 0, 0, 0, 0, 0, 0, 0\\n1, 0, 0, 0, 0, 0, 0, 0, 0, 0, 0, 0]\\nclass = 220'),\n",
       " Text(0.625, 0.4090909090909091, 'gini = 0.0\\nsamples = 2\\nvalue = [0, 0, 0, 0, 0, 0, 0, 0, 0, 0, 0, 0, 0, 0\\n0, 0, 2, 0, 0, 0, 0, 0, 0, 0, 0, 0]\\nclass = 250'),\n",
       " Text(0.6875, 0.5, 'Shares <= 60.0\\ngini = 0.48\\nsamples = 5\\nvalue = [0, 0, 0, 0, 0, 0, 0, 0, 0, 0, 0, 0, 0, 0\\n0, 3, 0, 2, 0, 0, 0, 0, 0, 0, 0, 0]\\nclass = 240'),\n",
       " Text(0.6666666666666666, 0.4090909090909091, 'gini = 0.0\\nsamples = 3\\nvalue = [0, 0, 0, 0, 0, 0, 0, 0, 0, 0, 0, 0, 0, 0\\n0, 3, 0, 0, 0, 0, 0, 0, 0, 0, 0, 0]\\nclass = 240'),\n",
       " Text(0.7083333333333334, 0.4090909090909091, 'gini = 0.0\\nsamples = 2\\nvalue = [0, 0, 0, 0, 0, 0, 0, 0, 0, 0, 0, 0, 0, 0\\n0, 0, 0, 2, 0, 0, 0, 0, 0, 0, 0, 0]\\nclass = 270'),\n",
       " Text(0.8854166666666666, 0.8636363636363636, 'Shares <= 95.0\\ngini = 0.819\\nsamples = 25\\nvalue = [0, 0, 0, 0, 0, 0, 0, 0, 0, 0, 0, 0, 0, 0\\n0, 0, 0, 0, 5, 6, 3, 1, 6, 2, 1, 1]\\nclass = 320'),\n",
       " Text(0.8125, 0.7727272727272727, 'Post Frequency <= 1.5\\ngini = 0.643\\nsamples = 14\\nvalue = [0, 0, 0, 0, 0, 0, 0, 0, 0, 0, 0, 0, 0, 0\\n0, 0, 0, 0, 5, 6, 3, 0, 0, 0, 0, 0]\\nclass = 320'),\n",
       " Text(0.7708333333333334, 0.6818181818181818, 'Shares <= 82.5\\ngini = 0.593\\nsamples = 9\\nvalue = [0, 0, 0, 0, 0, 0, 0, 0, 0, 0, 0, 0, 0, 0\\n0, 0, 0, 0, 5, 2, 2, 0, 0, 0, 0, 0]\\nclass = 300'),\n",
       " Text(0.75, 0.5909090909090909, 'gini = 0.0\\nsamples = 3\\nvalue = [0, 0, 0, 0, 0, 0, 0, 0, 0, 0, 0, 0, 0, 0\\n0, 0, 0, 0, 3, 0, 0, 0, 0, 0, 0, 0]\\nclass = 300'),\n",
       " Text(0.7916666666666666, 0.5909090909090909, 'User Engagement History <= 3450.0\\ngini = 0.667\\nsamples = 6\\nvalue = [0, 0, 0, 0, 0, 0, 0, 0, 0, 0, 0, 0, 0, 0\\n0, 0, 0, 0, 2, 2, 2, 0, 0, 0, 0, 0]\\nclass = 300'),\n",
       " Text(0.7708333333333334, 0.5, 'User Engagement History <= 2400.0\\ngini = 0.5\\nsamples = 4\\nvalue = [0, 0, 0, 0, 0, 0, 0, 0, 0, 0, 0, 0, 0, 0\\n0, 0, 0, 0, 0, 2, 2, 0, 0, 0, 0, 0]\\nclass = 320'),\n",
       " Text(0.75, 0.4090909090909091, 'gini = 0.0\\nsamples = 1\\nvalue = [0, 0, 0, 0, 0, 0, 0, 0, 0, 0, 0, 0, 0, 0\\n0, 0, 0, 0, 0, 1, 0, 0, 0, 0, 0, 0]\\nclass = 320'),\n",
       " Text(0.7916666666666666, 0.4090909090909091, 'User Engagement History <= 2600.0\\ngini = 0.444\\nsamples = 3\\nvalue = [0, 0, 0, 0, 0, 0, 0, 0, 0, 0, 0, 0, 0, 0\\n0, 0, 0, 0, 0, 1, 2, 0, 0, 0, 0, 0]\\nclass = 350'),\n",
       " Text(0.7708333333333334, 0.3181818181818182, 'gini = 0.0\\nsamples = 1\\nvalue = [0, 0, 0, 0, 0, 0, 0, 0, 0, 0, 0, 0, 0, 0\\n0, 0, 0, 0, 0, 0, 1, 0, 0, 0, 0, 0]\\nclass = 350'),\n",
       " Text(0.8125, 0.3181818181818182, 'Shares <= 87.5\\ngini = 0.5\\nsamples = 2\\nvalue = [0, 0, 0, 0, 0, 0, 0, 0, 0, 0, 0, 0, 0, 0\\n0, 0, 0, 0, 0, 1, 1, 0, 0, 0, 0, 0]\\nclass = 320'),\n",
       " Text(0.7916666666666666, 0.22727272727272727, 'gini = 0.0\\nsamples = 1\\nvalue = [0, 0, 0, 0, 0, 0, 0, 0, 0, 0, 0, 0, 0, 0\\n0, 0, 0, 0, 0, 1, 0, 0, 0, 0, 0, 0]\\nclass = 320'),\n",
       " Text(0.8333333333333334, 0.22727272727272727, 'gini = 0.0\\nsamples = 1\\nvalue = [0, 0, 0, 0, 0, 0, 0, 0, 0, 0, 0, 0, 0, 0\\n0, 0, 0, 0, 0, 0, 1, 0, 0, 0, 0, 0]\\nclass = 350'),\n",
       " Text(0.8125, 0.5, 'gini = 0.0\\nsamples = 2\\nvalue = [0, 0, 0, 0, 0, 0, 0, 0, 0, 0, 0, 0, 0, 0\\n0, 0, 0, 0, 2, 0, 0, 0, 0, 0, 0, 0]\\nclass = 300'),\n",
       " Text(0.8541666666666666, 0.6818181818181818, 'Comments <= 72.5\\ngini = 0.32\\nsamples = 5\\nvalue = [0, 0, 0, 0, 0, 0, 0, 0, 0, 0, 0, 0, 0, 0\\n0, 0, 0, 0, 0, 4, 1, 0, 0, 0, 0, 0]\\nclass = 320'),\n",
       " Text(0.8333333333333334, 0.5909090909090909, 'gini = 0.0\\nsamples = 4\\nvalue = [0, 0, 0, 0, 0, 0, 0, 0, 0, 0, 0, 0, 0, 0\\n0, 0, 0, 0, 0, 4, 0, 0, 0, 0, 0, 0]\\nclass = 320'),\n",
       " Text(0.875, 0.5909090909090909, 'gini = 0.0\\nsamples = 1\\nvalue = [0, 0, 0, 0, 0, 0, 0, 0, 0, 0, 0, 0, 0, 0\\n0, 0, 0, 0, 0, 0, 1, 0, 0, 0, 0, 0]\\nclass = 350'),\n",
       " Text(0.9583333333333334, 0.7727272727272727, 'Comments <= 105.0\\ngini = 0.645\\nsamples = 11\\nvalue = [0, 0, 0, 0, 0, 0, 0, 0, 0, 0, 0, 0, 0, 0\\n0, 0, 0, 0, 0, 0, 0, 1, 6, 2, 1, 1]\\nclass = 400'),\n",
       " Text(0.9375, 0.6818181818181818, 'Post Frequency <= 2.5\\ngini = 0.58\\nsamples = 10\\nvalue = [0, 0, 0, 0, 0, 0, 0, 0, 0, 0, 0, 0, 0, 0\\n0, 0, 0, 0, 0, 0, 0, 1, 6, 2, 0, 1]\\nclass = 400'),\n",
       " Text(0.9166666666666666, 0.5909090909090909, 'Shares <= 135.0\\ngini = 0.494\\nsamples = 9\\nvalue = [0, 0, 0, 0, 0, 0, 0, 0, 0, 0, 0, 0, 0, 0\\n0, 0, 0, 0, 0, 0, 0, 0, 6, 2, 0, 1]\\nclass = 400'),\n",
       " Text(0.8958333333333334, 0.5, 'Comments <= 97.5\\ngini = 0.375\\nsamples = 8\\nvalue = [0, 0, 0, 0, 0, 0, 0, 0, 0, 0, 0, 0, 0, 0\\n0, 0, 0, 0, 0, 0, 0, 0, 6, 2, 0, 0]\\nclass = 400'),\n",
       " Text(0.875, 0.4090909090909091, 'Shares <= 105.0\\ngini = 0.5\\nsamples = 4\\nvalue = [0, 0, 0, 0, 0, 0, 0, 0, 0, 0, 0, 0, 0, 0\\n0, 0, 0, 0, 0, 0, 0, 0, 2, 2, 0, 0]\\nclass = 400'),\n",
       " Text(0.8541666666666666, 0.3181818181818182, 'gini = 0.0\\nsamples = 1\\nvalue = [0, 0, 0, 0, 0, 0, 0, 0, 0, 0, 0, 0, 0, 0\\n0, 0, 0, 0, 0, 0, 0, 0, 1, 0, 0, 0]\\nclass = 400'),\n",
       " Text(0.8958333333333334, 0.3181818181818182, 'Comments <= 85.0\\ngini = 0.444\\nsamples = 3\\nvalue = [0, 0, 0, 0, 0, 0, 0, 0, 0, 0, 0, 0, 0, 0\\n0, 0, 0, 0, 0, 0, 0, 0, 1, 2, 0, 0]\\nclass = 420'),\n",
       " Text(0.875, 0.22727272727272727, 'gini = 0.0\\nsamples = 1\\nvalue = [0, 0, 0, 0, 0, 0, 0, 0, 0, 0, 0, 0, 0, 0\\n0, 0, 0, 0, 0, 0, 0, 0, 1, 0, 0, 0]\\nclass = 400'),\n",
       " Text(0.9166666666666666, 0.22727272727272727, 'gini = 0.0\\nsamples = 2\\nvalue = [0, 0, 0, 0, 0, 0, 0, 0, 0, 0, 0, 0, 0, 0\\n0, 0, 0, 0, 0, 0, 0, 0, 0, 2, 0, 0]\\nclass = 420'),\n",
       " Text(0.9166666666666666, 0.4090909090909091, 'gini = 0.0\\nsamples = 4\\nvalue = [0, 0, 0, 0, 0, 0, 0, 0, 0, 0, 0, 0, 0, 0\\n0, 0, 0, 0, 0, 0, 0, 0, 4, 0, 0, 0]\\nclass = 400'),\n",
       " Text(0.9375, 0.5, 'gini = 0.0\\nsamples = 1\\nvalue = [0, 0, 0, 0, 0, 0, 0, 0, 0, 0, 0, 0, 0, 0\\n0, 0, 0, 0, 0, 0, 0, 0, 0, 0, 0, 1]\\nclass = 500'),\n",
       " Text(0.9583333333333334, 0.5909090909090909, 'gini = 0.0\\nsamples = 1\\nvalue = [0, 0, 0, 0, 0, 0, 0, 0, 0, 0, 0, 0, 0, 0\\n0, 0, 0, 0, 0, 0, 0, 1, 0, 0, 0, 0]\\nclass = 380'),\n",
       " Text(0.9791666666666666, 0.6818181818181818, 'gini = 0.0\\nsamples = 1\\nvalue = [0, 0, 0, 0, 0, 0, 0, 0, 0, 0, 0, 0, 0, 0\\n0, 0, 0, 0, 0, 0, 0, 0, 0, 0, 1, 0]\\nclass = 450')]"
      ]
     },
     "execution_count": 34,
     "metadata": {},
     "output_type": "execute_result"
    },
    {
     "data": {
      "image/png": "[encoded data removed]",
      "text/plain": [
       "<Figure size 640x480 with 1 Axes>"
      ]
     },
     "metadata": {},
     "output_type": "display_data"
    }
   ],
   "source": [
    "tree.plot_tree(decision_tree,feature_names = feature_names, class_names = class_names , filled = True)"
   ]
  }
 ],
 "metadata": {
  "kernelspec": {
   "display_name": "Python 3 (ipykernel)",
   "language": "python",
   "name": "python3"
  },
  "language_info": {
   "codemirror_mode": {
    "name": "ipython",
    "version": 3
   },
   "file_extension": ".py",
   "mimetype": "text/x-python",
   "name": "python",
   "nbconvert_exporter": "python",
   "pygments_lexer": "ipython3",
   "version": "3.9.13"
  }
 },
 "nbformat": 4,
 "nbformat_minor": 5
}
