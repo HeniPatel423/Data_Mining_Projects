{
 "cells": [
  {
   "cell_type": "markdown",
   "id": "33bb22de",
   "metadata": {},
   "source": [
    "# Loading the dataset into a Pandas DataFrame."
   ]
  },
  {
   "cell_type": "code",
   "execution_count": 1,
   "id": "eed583a2",
   "metadata": {},
   "outputs": [
    {
     "name": "stdout",
     "output_type": "stream",
     "text": [
      "    User_ID   Age  Gender     Location  Followers  Following   Posts   Likes  \\\n",
      "0         1  25.0    Male     New York      500.0      300.0   100.0   250.0   \n",
      "1         2  32.0  Female  Los Angeles     1000.0      700.0   150.0   500.0   \n",
      "2         3   NaN    Male       London        NaN      500.0     NaN   150.0   \n",
      "3         4  42.0  Female        Paris     2500.0     1000.0   300.0   750.0   \n",
      "4         5   NaN   Other          NaN        NaN        NaN     NaN  1000.0   \n",
      "5         6  29.0    Male       Sydney     1500.0        NaN   200.0   400.0   \n",
      "6         7  37.0     NaN        Tokyo      800.0      600.0     NaN     NaN   \n",
      "7         8  28.0  Female       Berlin        NaN        NaN   100.0   300.0   \n",
      "8         9  35.0   Other       Moscow     4000.0     1200.0   400.0   900.0   \n",
      "9        10   NaN    Male      Chicago        NaN        NaN     NaN   600.0   \n",
      "10       11  65.0  Female  Los Angeles    10000.0     5000.0  1000.0  1500.0   \n",
      "11       12  22.0    Male     New York      800.0      900.0   500.0   800.0   \n",
      "\n",
      "    Comments  Shares  Small_Numbers  \n",
      "0       50.0    10.0      20000.000  \n",
      "1       75.0    20.0          0.003  \n",
      "2       25.0     5.0          0.001  \n",
      "3        NaN    30.0            NaN  \n",
      "4      100.0    15.0          0.007  \n",
      "5       50.0     NaN          0.006  \n",
      "6        NaN     NaN          0.001  \n",
      "7        NaN     8.0            NaN  \n",
      "8       80.0    25.0          0.002  \n",
      "9        NaN    12.0          0.003  \n",
      "10     200.0   500.0      10000.000  \n",
      "11     300.0   100.0          0.008  \n"
     ]
    }
   ],
   "source": [
    "import pandas as pd\n",
    "\n",
    "file_path = \"C:/Users/patel/Downloads/Weekly_Assignment.csv\"\n",
    "\n",
    "data = pd.read_csv(file_path)\n",
    "\n",
    "df = pd.DataFrame(data)\n",
    "\n",
    "print(df)"
   ]
  },
  {
   "cell_type": "markdown",
   "id": "21eaef2c",
   "metadata": {},
   "source": [
    "# Checking the missing values and ratio"
   ]
  },
  {
   "cell_type": "code",
   "execution_count": 2,
   "id": "f8b05fd0",
   "metadata": {},
   "outputs": [
    {
     "name": "stdout",
     "output_type": "stream",
     "text": [
      "Missing Values:\n",
      "User_ID          0\n",
      "Age              3\n",
      "Gender           1\n",
      "Location         1\n",
      "Followers        4\n",
      "Following        4\n",
      "Posts            4\n",
      "Likes            1\n",
      "Comments         4\n",
      "Shares           2\n",
      "Small_Numbers    2\n",
      "dtype: int64\n",
      "Missing Value Ratio:\n",
      "User_ID          0.000000\n",
      "Age              0.250000\n",
      "Gender           0.083333\n",
      "Location         0.083333\n",
      "Followers        0.333333\n",
      "Following        0.333333\n",
      "Posts            0.333333\n",
      "Likes            0.083333\n",
      "Comments         0.333333\n",
      "Shares           0.166667\n",
      "Small_Numbers    0.166667\n",
      "dtype: float64\n"
     ]
    }
   ],
   "source": [
    "missing_values = df.isnull().sum()\n",
    "\n",
    "# Print the count of missing values\n",
    "\n",
    "print(\"Missing Values:\")\n",
    "\n",
    "print(missing_values)\n",
    "\n",
    "# Calculate the missing value ratio\n",
    "\n",
    "missing_ratio = df.isnull().mean()\n",
    "\n",
    "# Print the missing value ratio\n",
    "\n",
    "print(\"Missing Value Ratio:\")\n",
    "\n",
    "print(missing_ratio)"
   ]
  },
  {
   "cell_type": "markdown",
   "id": "61caec55",
   "metadata": {},
   "source": [
    "# Handling Missing Values"
   ]
  },
  {
   "cell_type": "code",
   "execution_count": 3,
   "id": "ba5cab0c",
   "metadata": {},
   "outputs": [
    {
     "name": "stdout",
     "output_type": "stream",
     "text": [
      "    User_ID   Age  Gender     Location  Followers  Following    Posts   Likes  \\\n",
      "0         1  25.0    Male     New York      500.0      300.0   100.00   250.0   \n",
      "1         2  32.0  Female  Los Angeles     1000.0      700.0   150.00   500.0   \n",
      "2         3  35.0    Male       London     2637.5      500.0   343.75   150.0   \n",
      "3         4  42.0  Female        Paris     2500.0     1000.0   300.00   750.0   \n",
      "4         5  35.0   Other  Los Angeles     2637.5     1275.0   343.75  1000.0   \n",
      "5         6  29.0    Male       Sydney     1500.0     1275.0   200.00   400.0   \n",
      "6         7  37.0    Male        Tokyo      800.0      600.0   343.75   650.0   \n",
      "7         8  28.0  Female       Berlin     2637.5     1275.0   100.00   300.0   \n",
      "8         9  35.0   Other       Moscow     4000.0     1200.0   400.00   900.0   \n",
      "9        10  35.0    Male      Chicago     2637.5     1275.0   343.75   600.0   \n",
      "10       11  65.0  Female  Los Angeles    10000.0     5000.0  1000.00  1500.0   \n",
      "11       12  22.0    Male     New York      800.0      900.0   500.00   800.0   \n",
      "\n",
      "    Comments  Shares  Small_Numbers  \n",
      "0       50.0    10.0     20000.0000  \n",
      "1       75.0    20.0         0.0030  \n",
      "2       25.0     5.0         0.0010  \n",
      "3      110.0    30.0      3000.0031  \n",
      "4      100.0    15.0         0.0070  \n",
      "5       50.0    72.5         0.0060  \n",
      "6      110.0    72.5         0.0010  \n",
      "7      110.0     8.0      3000.0031  \n",
      "8       80.0    25.0         0.0020  \n",
      "9      110.0    12.0         0.0030  \n",
      "10     200.0   500.0     10000.0000  \n",
      "11     300.0   100.0         0.0080  \n"
     ]
    }
   ],
   "source": [
    "df['Age'].fillna(df['Age'].mean(),inplace=True)\n",
    "df['Followers'].fillna(df['Followers'].mean(),inplace=True)\n",
    "df['Following'].fillna(df['Following'].mean(),inplace=True)\n",
    "df['Posts'].fillna(df['Posts'].mean(),inplace=True)\n",
    "df['Likes'].fillna(df['Likes'].mean(),inplace=True)\n",
    "df['Comments'].fillna(df['Comments'].mean(),inplace=True)\n",
    "df['Shares'].fillna(df['Shares'].mean(),inplace=True)\n",
    "df['Small_Numbers'].fillna(df['Small_Numbers'].mean(),inplace=True)\n",
    "df['Gender'].fillna(df['Gender'].mode()[0],inplace=True)\n",
    "df['Location'].fillna(df['Location'].mode()[0],inplace=True)\n",
    "print(df)"
   ]
  },
  {
   "cell_type": "markdown",
   "id": "76aaed2c",
   "metadata": {},
   "source": [
    "# Identifying and Removing Outliers"
   ]
  },
  {
   "cell_type": "markdown",
   "id": "d82d4413",
   "metadata": {},
   "source": [
    "### Using Modified Z-score"
   ]
  },
  {
   "cell_type": "code",
   "execution_count": 4,
   "id": "4065dd5a",
   "metadata": {},
   "outputs": [
    {
     "name": "stdout",
     "output_type": "stream",
     "text": [
      "Outliers for Age:\n",
      "65.0\n",
      "Outliers for Followers:\n",
      "10000.0\n",
      "Outliers for Following:\n",
      "5000.0\n",
      "Outliers for Posts:\n",
      "1000.0\n",
      "Outliers for Likes:\n",
      "Outliers for Comments:\n",
      "300.0\n",
      "Outliers for Shares:\n",
      "500.0\n",
      "100.0\n",
      "Outliers for Small_Numbers:\n",
      "20000.0\n",
      "3000.003100000001\n",
      "3000.003100000001\n",
      "10000.0\n"
     ]
    }
   ],
   "source": [
    "import pandas as pd\n",
    "\n",
    "import numpy as np\n",
    "\n",
    "from scipy.stats import mstats\n",
    "\n",
    "columns = ['Age', 'Followers','Following','Posts','Likes','Comments','Shares','Small_Numbers']  \n",
    "\n",
    "# Replace outliers with a threshold value (e.g., 3 standard deviations)\n",
    "\n",
    "threshold = 3\n",
    "\n",
    "for column in columns:\n",
    "    \n",
    "    data=df[column]\n",
    "    \n",
    "    median = np.median(data)\n",
    "\n",
    "    mad = np.median(np.abs(data - median))\n",
    "    \n",
    "    # Calculate modified Z-scores\n",
    "\n",
    "    #The value 0.6745 is a constant factor used in the modified Z-score calculation. It is derived from the inverse of the cumulative distribution function (CDF) of the standard normal distribution at a specific percentile.\n",
    "\n",
    "    modified_z_scores = 0.6745 * (data - median) / mad\n",
    "\n",
    "    # Find outliers\n",
    "\n",
    "    outliers = np.where(np.abs(modified_z_scores) > threshold)\n",
    "\n",
    "    # Print the outliers\n",
    "\n",
    "    print(\"Outliers for \" + column + ':')\n",
    "    for index in outliers[0]:\n",
    "        print(data[index])\n"
   ]
  },
  {
   "cell_type": "markdown",
   "id": "a040a5e8",
   "metadata": {},
   "source": [
    "###  Using winsorization method"
   ]
  },
  {
   "cell_type": "code",
   "execution_count": 5,
   "id": "1d51644b",
   "metadata": {},
   "outputs": [],
   "source": [
    " # Apply winsorization\n",
    "columns_with_outliers = ['Age', 'Followers','Following','Posts','Comments','Shares']  \n",
    "\n",
    "for column in columns_with_outliers:\n",
    "    data=df[column]\n",
    "    winsorized_data = mstats.winsorize(data, limits=[0.10, 0.10])\n",
    "    data = winsorized_data.astype(float)\n",
    "    df[column] = data"
   ]
  },
  {
   "cell_type": "markdown",
   "id": "afccb788",
   "metadata": {},
   "source": [
    "### Using Transformation method "
   ]
  },
  {
   "cell_type": "code",
   "execution_count": 6,
   "id": "251db78b",
   "metadata": {},
   "outputs": [],
   "source": [
    "\n",
    "data = df['Small_Numbers']\n",
    "\n",
    "# Apply logarithmic transformation\n",
    "\n",
    "transformed_data = np.log1p(data)\n",
    "\n",
    "df['Small_Numbers']= transformed_data"
   ]
  },
  {
   "cell_type": "markdown",
   "id": "f7072fd1",
   "metadata": {},
   "source": [
    "# Saving the Pre-processed data into Excel"
   ]
  },
  {
   "cell_type": "code",
   "execution_count": 7,
   "id": "5473a271",
   "metadata": {},
   "outputs": [
    {
     "name": "stdout",
     "output_type": "stream",
     "text": [
      "    User_ID   Age  Gender     Location  Followers  Following   Posts   Likes  \\\n",
      "0         1  25.0    Male     New York      800.0      500.0  100.00   250.0   \n",
      "1         2  32.0  Female  Los Angeles     1000.0      700.0  150.00   500.0   \n",
      "2         3  35.0    Male       London     2637.5      500.0  343.75   150.0   \n",
      "3         4  42.0  Female        Paris     2500.0     1000.0  300.00   750.0   \n",
      "4         5  35.0   Other  Los Angeles     2637.5     1275.0  343.75  1000.0   \n",
      "5         6  29.0    Male       Sydney     1500.0     1275.0  200.00   400.0   \n",
      "6         7  37.0    Male        Tokyo      800.0      600.0  343.75   650.0   \n",
      "7         8  28.0  Female       Berlin     2637.5     1275.0  100.00   300.0   \n",
      "8         9  35.0   Other       Moscow     4000.0     1200.0  400.00   900.0   \n",
      "9        10  35.0    Male      Chicago     2637.5     1275.0  343.75   600.0   \n",
      "10       11  42.0  Female  Los Angeles     4000.0     1275.0  500.00  1500.0   \n",
      "11       12  25.0    Male     New York      800.0      900.0  500.00   800.0   \n",
      "\n",
      "    Comments  Shares  Small_Numbers  \n",
      "0       50.0    10.0       9.903538  \n",
      "1       75.0    20.0       0.002996  \n",
      "2       50.0     8.0       0.001000  \n",
      "3      110.0    30.0       8.006702  \n",
      "4      100.0    15.0       0.006976  \n",
      "5       50.0    72.5       0.005982  \n",
      "6      110.0    72.5       0.001000  \n",
      "7      110.0     8.0       8.006702  \n",
      "8       80.0    25.0       0.001998  \n",
      "9      110.0    12.0       0.002996  \n",
      "10     200.0   100.0       9.210440  \n",
      "11     200.0   100.0       0.007968  \n"
     ]
    }
   ],
   "source": [
    "print(df)\n",
    "\n",
    "# Save the modified DataFrame to an Excel file\n",
    "\n",
    "df.to_excel('Final_Workbook.xlsx', index=False)"
   ]
  }
 ],
 "metadata": {
  "kernelspec": {
   "display_name": "Python 3 (ipykernel)",
   "language": "python",
   "name": "python3"
  },
  "language_info": {
   "codemirror_mode": {
    "name": "ipython",
    "version": 3
   },
   "file_extension": ".py",
   "mimetype": "text/x-python",
   "name": "python",
   "nbconvert_exporter": "python",
   "pygments_lexer": "ipython3",
   "version": "3.9.13"
  }
 },
 "nbformat": 4,
 "nbformat_minor": 5
}
